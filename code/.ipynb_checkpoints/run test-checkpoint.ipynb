{
 "cells": [
  {
   "cell_type": "code",
   "execution_count": 1,
   "metadata": {
    "scrolled": true
   },
   "outputs": [
    {
     "name": "stdout",
     "output_type": "stream",
     "text": [
      "2\n"
     ]
    }
   ],
   "source": [
    "print 2"
   ]
  },
  {
   "cell_type": "code",
   "execution_count": 2,
   "metadata": {},
   "outputs": [
    {
     "name": "stderr",
     "output_type": "stream",
     "text": [
      "Using cuDNN version 5105 on context None\n",
      "Mapped name None to device cuda0: GeForce GTX 1080 (0000:02:00.0)\n"
     ]
    }
   ],
   "source": [
    "import qa_model"
   ]
  },
  {
   "cell_type": "markdown",
   "metadata": {},
   "source": [
    "/root/anaconda2/bin/python main.py --train_file /matan_files/datasets/cnn/cnn_qa/train.txt --dev_file /matan_files/datasets/cnn/cnn_qa/test.txt --embedding_file /matan_files/word-embeddings/glove.6B.100d.txt --test_only True --pre_trained /matan_files/rc-cnn-dailymail/code/model.pkl.gz --log_file log_test\n"
   ]
  },
  {
   "cell_type": "code",
   "execution_count": 3,
   "metadata": {},
   "outputs": [
    {
     "name": "stderr",
     "output_type": "stream",
     "text": [
      "11-20 15:57 /root/anaconda3/envs/python2/lib/python2.7/site-packages/ipykernel_launcher.py -f /root/.local/share/jupyter/runtime/kernel-e0b1bf76-8136-460e-80e5-a79fecbc922c.json\n",
      "11-20 15:57 --------------------------------------------------\n",
      "11-20 15:57 Load data files..\n",
      "11-20 15:57 ********** Train\n",
      "11-20 15:59 #Examples: 380298\n",
      "11-20 15:59 ********** Dev\n",
      "11-20 15:59 #Examples: 3198\n",
      "11-20 15:59 --------------------------------------------------\n",
      "11-20 15:59 Build dictionary..\n",
      "11-20 16:01 #Words: 118440 -> 50000\n",
      "11-20 16:01 ('the', 15383021)\n",
      "11-20 16:01 (',', 13757778)\n",
      "11-20 16:01 ('.', 11782121)\n",
      "11-20 16:01 ('to', 7208903)\n",
      "11-20 16:01 ('\"', 6967510)\n",
      "11-20 16:01 ...\n",
      "11-20 16:01 ('gourd', 21)\n",
      "11-20 16:01 ('3,842', 21)\n",
      "11-20 16:01 ('subdomain', 21)\n",
      "11-20 16:01 ('2010s', 21)\n",
      "11-20 16:01 ('mopey', 21)\n",
      "11-20 16:01 Entity markers: 328\n",
      "11-20 16:01 --------------------------------------------------\n",
      "11-20 16:01 Embeddings: 50002 x 100\n",
      "11-20 16:01 Loading embedding file: /matan_files/word-embeddings/glove.6B.100d.txt\n",
      "11-20 16:01 Pre-trained: 48609 (97.21%)\n",
      "11-20 16:01 Compile functions..\n",
      "11-20 16:01 Loaded pre-trained model: /matan_files/rc-cnn-dailymail/code/model.pkl.gz\n",
      "11-20 16:01 ('epoch', 46)\n",
      "11-20 16:01 ('n_updates', 551600)\n",
      "11-20 16:01 #params: 5501776\n",
      "11-20 16:01 <lasagne.layers.input.InputLayer object at 0x7f4e2c1fd090>\n",
      "11-20 16:01 <lasagne.layers.embedding.EmbeddingLayer object at 0x7f4e2c1fdbd0>\n",
      "11-20 16:01 <lasagne.layers.noise.DropoutLayer object at 0x7f4e5c6cdcd0>\n",
      "11-20 16:01 <lasagne.layers.input.InputLayer object at 0x7f4e2c1fd950>\n",
      "11-20 16:01 <lasagne.layers.recurrent.GRULayer object at 0x7f4e5c6cde50>\n",
      "11-20 16:01 <lasagne.layers.noise.DropoutLayer object at 0x7f4e5c65f150>\n",
      "11-20 16:01 <lasagne.layers.recurrent.GRULayer object at 0x7f4e5c620410>\n",
      "11-20 16:01 <lasagne.layers.merge.ConcatLayer object at 0x7f4e5c6cdd10>\n",
      "11-20 16:01 <lasagne.layers.input.InputLayer object at 0x7f4e2c1fdd90>\n",
      "11-20 16:01 <lasagne.layers.embedding.EmbeddingLayer object at 0x7f4e5c6cddd0>\n",
      "11-20 16:01 <lasagne.layers.noise.DropoutLayer object at 0x7f4e5c59b290>\n",
      "11-20 16:01 <lasagne.layers.input.InputLayer object at 0x7f4e5c6cdd90>\n",
      "11-20 16:01 <lasagne.layers.recurrent.GRULayer object at 0x7f4e5c59b310>\n",
      "11-20 16:01 <lasagne.layers.noise.DropoutLayer object at 0x7f4e5c59fdd0>\n",
      "11-20 16:01 <lasagne.layers.recurrent.GRULayer object at 0x7f4e5c5a2350>\n",
      "11-20 16:01 <lasagne.layers.merge.ConcatLayer object at 0x7f4e5c57a910>\n",
      "11-20 16:01 <nn_layers.BilinearAttentionLayer object at 0x7f4e5c4b6e10>\n",
      "11-20 16:01 <lasagne.layers.dense.DenseLayer object at 0x7f4e5c4d2510>\n",
      "11-20 16:03 Done.\n"
     ]
    }
   ],
   "source": [
    "args, word_dict, entity_dict, train_fn, test_fn, params = qa_model.qa_model(train_file='/matan_files/datasets/cnn/cnn_qa/train.txt', dev_file='/matan_files/datasets/cnn/cnn_qa/test.txt', embedding_file='/matan_files/word-embeddings/glove.6B.100d.txt', test_only=True, prepare_model=True, pre_trained='/matan_files/rc-cnn-dailymail/code/model.pkl.gz')\n",
    "# "
   ]
  },
  {
   "cell_type": "code",
   "execution_count": 4,
   "metadata": {
    "scrolled": true
   },
   "outputs": [
    {
     "name": "stderr",
     "output_type": "stream",
     "text": [
      "11-20 16:03 #Examples: 3198\n",
      "11-20 16:03 Vectorization: processed 0 / 3198\n"
     ]
    },
    {
     "data": {
      "text/plain": [
       "74.452782989368359"
      ]
     },
     "execution_count": 4,
     "metadata": {},
     "output_type": "execute_result"
    }
   ],
   "source": [
    "qa_model.test(args, word_dict, entity_dict, train_fn, test_fn, params)"
   ]
  },
  {
   "cell_type": "code",
   "execution_count": 5,
   "metadata": {},
   "outputs": [
    {
     "data": {
      "text/plain": [
       "'/matan_files/datasets/cnn/cnn_qa/test.txt'"
      ]
     },
     "execution_count": 5,
     "metadata": {},
     "output_type": "execute_result"
    }
   ],
   "source": [
    "args.dev_file"
   ]
  },
  {
   "cell_type": "code",
   "execution_count": 6,
   "metadata": {
    "collapsed": true
   },
   "outputs": [],
   "source": [
    "args.max_dev"
   ]
  },
  {
   "cell_type": "code",
   "execution_count": 7,
   "metadata": {},
   "outputs": [
    {
     "data": {
      "text/plain": [
       "True"
      ]
     },
     "execution_count": 7,
     "metadata": {},
     "output_type": "execute_result"
    }
   ],
   "source": [
    "args.relabeling"
   ]
  },
  {
   "cell_type": "code",
   "execution_count": 8,
   "metadata": {},
   "outputs": [
    {
     "name": "stderr",
     "output_type": "stream",
     "text": [
      "11-20 16:04 #Examples: 3198\n"
     ]
    }
   ],
   "source": [
    "import utils\n",
    "dev_examples = utils.load_data(args.dev_file, args.max_dev, relabeling=args.relabeling)"
   ]
  },
  {
   "cell_type": "code",
   "execution_count": 12,
   "metadata": {},
   "outputs": [
    {
     "data": {
      "text/plain": [
       "3198"
      ]
     },
     "execution_count": 12,
     "metadata": {},
     "output_type": "execute_result"
    }
   ],
   "source": [
    "len(dev_examples[1])"
   ]
  },
  {
   "cell_type": "code",
   "execution_count": null,
   "metadata": {
    "collapsed": true
   },
   "outputs": [],
   "source": []
  },
  {
   "cell_type": "code",
   "execution_count": 71,
   "metadata": {
    "collapsed": true
   },
   "outputs": [],
   "source": [
    "question = 1\n",
    "fake_dev_examples = [[dev_examples[0][question]], [dev_examples[1][question]], [dev_examples[2][question]]]"
   ]
  },
  {
   "cell_type": "code",
   "execution_count": 72,
   "metadata": {},
   "outputs": [
    {
     "data": {
      "text/plain": [
       "[['( @entity0 ) a large storm system dubbed @entity1 is churning over the @entity2 , days away from a possible direct hit on the @entity3 . @entity1 is moving west - northwest after skirting the @entity4 , according to the @entity5 @entity6 . its eye is projected to make landfall in the central or northern part of the @entity3 island of @entity7 on sunday , though the country \\'s residents could start feeling its effects days before . that could interrupt the @entity8 celebration for many in the predominantly @entity9 nation , which may be socked by heavy rains and potent winds . the @entity10 noted that \" many people are expected to throng coastal areas at this time . \" images of the typhoon as seen from the @entity11 were posted to @entity12 , including a @entity13 video showing the swirling eye of the storm . the storm has weakened and is expected to lose more strength before it reaches the @entity3 . its maximum sustained winds on wednesday were 150 mph , making it a super typhoon in the @entity6 \\'s definition . but by thursday , the winds \\' strength had declined to around 132 mph -- no longer a super typhoon but still the equivalent of a category 4 hurricane . meteorologist @entity14 told @entity0 that @entity1 could weaken further to become a tropical storm by the time it reaches the @entity3 coast . \" this will not be a catastrophic storm , \" @entity14 said . that said , it could still cause flooding and bring strong winds , he cautioned . the @entity3 is frequently hit by typhoons . in december , for instance , @entity15 killed at least 18 people in the @entity16 nation and injured hundreds more . but that devastation paled in comparison to the havoc wrought by @entity17 in november 2013 , which killed more than 6,000 people and injured more than 27,000 others . that typhoon , considered to be among the strongest storms ever to make landfall , hit the eastern city of @entity18 especially hard . the irony of the upcoming storm is its timing : in april , just after the @entity3 @entity19 and @entity20 officially declared the onset of the nation \\'s dry , or summer , season . @entity21 meteorologist @entity22 predicts @entity1 -- which is called @entity23 in the @entity3 -- will bring heavy rains to @entity7 starting on friday , according to the state - run @entity24 . the country \\'s @entity25 went on red alert on wednesday because of the storm , the news agency reports . that alert means all relevant personnel are on standby and the public should be on guard for possible effects of the storm . @entity0 \\'s @entity26 contributed to this report .'],\n",
       " ['@placeholder has sustained winds of more than 130 mph but is expected to weaken'],\n",
       " ['@entity1']]"
      ]
     },
     "execution_count": 72,
     "metadata": {},
     "output_type": "execute_result"
    }
   ],
   "source": [
    "fake_dev_examples"
   ]
  },
  {
   "cell_type": "code",
   "execution_count": 73,
   "metadata": {
    "collapsed": true,
    "scrolled": true
   },
   "outputs": [],
   "source": [
    "# fake_dev_examples[0][0] = '@entity0 and @entity1'"
   ]
  },
  {
   "cell_type": "code",
   "execution_count": 74,
   "metadata": {},
   "outputs": [
    {
     "name": "stderr",
     "output_type": "stream",
     "text": [
      "11-16 18:19 Vectorization: processed 0 / 1\n"
     ]
    }
   ],
   "source": [
    "dev_x1, dev_x2, dev_l, dev_y = utils.vectorize(fake_dev_examples, word_dict, entity_dict)"
   ]
  },
  {
   "cell_type": "code",
   "execution_count": 76,
   "metadata": {
    "collapsed": true
   },
   "outputs": [],
   "source": [
    "all_dev = qa_model.gen_examples(dev_x1, dev_x2, dev_l, dev_y, args.batch_size)"
   ]
  },
  {
   "cell_type": "code",
   "execution_count": 77,
   "metadata": {},
   "outputs": [
    {
     "data": {
      "text/plain": [
       "32"
      ]
     },
     "execution_count": 77,
     "metadata": {},
     "output_type": "execute_result"
    }
   ],
   "source": [
    "args.batch_size"
   ]
  },
  {
   "cell_type": "code",
   "execution_count": 78,
   "metadata": {
    "collapsed": true
   },
   "outputs": [],
   "source": [
    "dev_acc = qa_model.eval_acc(test_fn, all_dev)"
   ]
  },
  {
   "cell_type": "code",
   "execution_count": 79,
   "metadata": {},
   "outputs": [
    {
     "data": {
      "text/plain": [
       "100.0"
      ]
     },
     "execution_count": 79,
     "metadata": {},
     "output_type": "execute_result"
    }
   ],
   "source": [
    "dev_acc"
   ]
  },
  {
   "cell_type": "code",
   "execution_count": 102,
   "metadata": {
    "collapsed": true
   },
   "outputs": [],
   "source": [
    "fake_dev_examples = [['@entity0 and @entity1'], ['@placeholder and @entity1'], ['@entity0']]"
   ]
  },
  {
   "cell_type": "code",
   "execution_count": 103,
   "metadata": {},
   "outputs": [
    {
     "name": "stderr",
     "output_type": "stream",
     "text": [
      "11-16 18:24 Vectorization: processed 0 / 1\n"
     ]
    }
   ],
   "source": [
    "dev_x1, dev_x2, dev_l, dev_y = utils.vectorize(fake_dev_examples, word_dict, entity_dict)"
   ]
  },
  {
   "cell_type": "code",
   "execution_count": 104,
   "metadata": {
    "collapsed": true
   },
   "outputs": [],
   "source": [
    "all_dev = qa_model.gen_examples(dev_x1, dev_x2, dev_l, dev_y, args.batch_size)"
   ]
  },
  {
   "cell_type": "code",
   "execution_count": 105,
   "metadata": {
    "collapsed": true
   },
   "outputs": [],
   "source": [
    "dev_acc = qa_model.eval_acc(test_fn, all_dev)"
   ]
  },
  {
   "cell_type": "code",
   "execution_count": 106,
   "metadata": {},
   "outputs": [
    {
     "data": {
      "text/plain": [
       "100.0"
      ]
     },
     "execution_count": 106,
     "metadata": {},
     "output_type": "execute_result"
    }
   ],
   "source": [
    "dev_acc"
   ]
  },
  {
   "cell_type": "code",
   "execution_count": null,
   "metadata": {
    "collapsed": true
   },
   "outputs": [],
   "source": []
  }
 ],
 "metadata": {
  "kernelspec": {
   "display_name": "Python 2",
   "language": "python",
   "name": "python2"
  },
  "language_info": {
   "codemirror_mode": {
    "name": "ipython",
    "version": 2
   },
   "file_extension": ".py",
   "mimetype": "text/x-python",
   "name": "python",
   "nbconvert_exporter": "python",
   "pygments_lexer": "ipython2",
   "version": "2.7.13"
  }
 },
 "nbformat": 4,
 "nbformat_minor": 2
}
