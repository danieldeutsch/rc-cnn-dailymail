{
 "cells": [
  {
   "cell_type": "code",
   "execution_count": 1,
   "metadata": {
    "scrolled": true
   },
   "outputs": [
    {
     "name": "stdout",
     "output_type": "stream",
     "text": [
      "2\n"
     ]
    }
   ],
   "source": [
    "print 2"
   ]
  },
  {
   "cell_type": "code",
   "execution_count": 2,
   "metadata": {},
   "outputs": [
    {
     "name": "stderr",
     "output_type": "stream",
     "text": [
      "WARNING (theano.sandbox.cuda): The cuda backend is deprecated and will be removed in the next release (v0.10).  Please switch to the gpuarray backend. You can get more information about how to switch at this URL:\n",
      " https://github.com/Theano/Theano/wiki/Converting-to-the-new-gpu-back-end%28gpuarray%29\n",
      "\n",
      "Using gpu device 0: GeForce GTX 1080 (CNMeM is enabled with initial size: 95.0% of memory, cuDNN 5105)\n"
     ]
    }
   ],
   "source": [
    "import my_main"
   ]
  },
  {
   "cell_type": "markdown",
   "metadata": {},
   "source": [
    "/root/anaconda2/bin/python main.py --train_file /matan_files/datasets/cnn/cnn_qa/train.txt --dev_file /matan_files/datasets/cnn/cnn_qa/test.txt --embedding_file /matan_files/word-embeddings/glove.6B.100d.txt --test_only True --pre_trained /matan_files/rc-cnn-dailymail/code/model.pkl.gz --log_file log_test\n"
   ]
  },
  {
   "cell_type": "code",
   "execution_count": 3,
   "metadata": {},
   "outputs": [
    {
     "name": "stderr",
     "output_type": "stream",
     "text": [
      "08-08 10:53 /root/anaconda2/lib/python2.7/site-packages/ipykernel_launcher.py -f /root/.local/share/jupyter/runtime/kernel-9bb84d22-a7b4-41ca-9543-1efb3e3ec008.json\n",
      "08-08 10:53 --------------------------------------------------\n",
      "08-08 10:53 Load data files..\n",
      "08-08 10:53 ********** Train\n",
      "08-08 10:55 #Examples: 380298\n",
      "08-08 10:55 ********** Dev\n",
      "08-08 10:55 #Examples: 3198\n",
      "08-08 10:55 --------------------------------------------------\n",
      "08-08 10:55 Build dictionary..\n",
      "08-08 10:58 #Words: 118440 -> 50000\n",
      "08-08 10:58 ('the', 15383021)\n",
      "08-08 10:58 (',', 13757778)\n",
      "08-08 10:58 ('.', 11782121)\n",
      "08-08 10:58 ('to', 7208903)\n",
      "08-08 10:58 ('\"', 6967510)\n",
      "08-08 10:58 ...\n",
      "08-08 10:58 ('gourd', 21)\n",
      "08-08 10:58 ('3,842', 21)\n",
      "08-08 10:58 ('subdomain', 21)\n",
      "08-08 10:58 ('2010s', 21)\n",
      "08-08 10:58 ('mopey', 21)\n",
      "08-08 10:58 Entity markers: 328\n",
      "08-08 10:58 --------------------------------------------------\n",
      "08-08 10:58 Embeddings: 50002 x 100\n",
      "08-08 10:58 Loading embedding file: /matan_files/word-embeddings/glove.6B.100d.txt\n",
      "08-08 10:58 Pre-trained: 48609 (97.21%)\n",
      "08-08 10:58 Compile functions..\n",
      "08-08 10:58 Loaded pre-trained model: /matan_files/rc-cnn-dailymail/code/model.pkl.gz\n",
      "08-08 10:58 ('epoch', 46)\n",
      "08-08 10:58 ('n_updates', 551600)\n",
      "08-08 10:58 #params: 5501776\n",
      "08-08 10:58 <lasagne.layers.input.InputLayer object at 0x7fd3b95102d0>\n",
      "08-08 10:58 <lasagne.layers.embedding.EmbeddingLayer object at 0x7fd3b9510e50>\n",
      "08-08 10:58 <lasagne.layers.noise.DropoutLayer object at 0x7fd3ba5d7f90>\n",
      "08-08 10:58 <lasagne.layers.input.InputLayer object at 0x7fd3b9510910>\n",
      "08-08 10:58 <lasagne.layers.recurrent.GRULayer object at 0x7fd3ba5d7bd0>\n",
      "08-08 10:58 <lasagne.layers.noise.DropoutLayer object at 0x7fd3c75840d0>\n",
      "08-08 10:58 <lasagne.layers.recurrent.GRULayer object at 0x7fd3c75844d0>\n",
      "08-08 10:58 <lasagne.layers.merge.ConcatLayer object at 0x7fd3ba5d7e50>\n",
      "08-08 10:58 <lasagne.layers.input.InputLayer object at 0x7fd3d8226190>\n",
      "08-08 10:58 <lasagne.layers.embedding.EmbeddingLayer object at 0x7fd3ba5d7ad0>\n",
      "08-08 10:58 <lasagne.layers.noise.DropoutLayer object at 0x7fd3c758d990>\n",
      "08-08 10:58 <lasagne.layers.input.InputLayer object at 0x7fd3ba5d7c90>\n",
      "08-08 10:58 <lasagne.layers.recurrent.GRULayer object at 0x7fd3c75263d0>\n",
      "08-08 10:58 <lasagne.layers.noise.DropoutLayer object at 0x7fd3c7500cd0>\n",
      "08-08 10:58 <lasagne.layers.recurrent.GRULayer object at 0x7fd3c74ad050>\n",
      "08-08 10:58 <lasagne.layers.merge.ConcatLayer object at 0x7fd3c63f14d0>\n",
      "08-08 10:58 <nn_layers.BilinearAttentionLayer object at 0x7fd3c74d7390>\n",
      "08-08 10:58 <lasagne.layers.dense.DenseLayer object at 0x7fd3c74d7650>\n",
      "08-08 10:59 Done.\n"
     ]
    }
   ],
   "source": [
    "args, word_dict, entity_dict, train_fn, test_fn, params = my_main.my_main(train_file='/matan_files/datasets/cnn/cnn_qa/train.txt', dev_file='/matan_files/datasets/cnn/cnn_qa/test.txt', embedding_file='/matan_files/word-embeddings/glove.6B.100d.txt', test_only=True, prepare_model=True, pre_trained='/matan_files/rc-cnn-dailymail/code/model.pkl.gz')\n",
    "# "
   ]
  },
  {
   "cell_type": "code",
   "execution_count": 4,
   "metadata": {},
   "outputs": [
    {
     "name": "stderr",
     "output_type": "stream",
     "text": [
      "08-08 10:59 #Examples: 3198\n",
      "08-08 10:59 Vectorization: processed 0 / 3198\n",
      "08-08 10:59 Dev accuracy: 74.45 %\n"
     ]
    }
   ],
   "source": [
    "my_main.test(args, word_dict, entity_dict, train_fn, test_fn, params)"
   ]
  },
  {
   "cell_type": "code",
   "execution_count": null,
   "metadata": {
    "collapsed": true
   },
   "outputs": [],
   "source": []
  }
 ],
 "metadata": {
  "kernelspec": {
   "display_name": "Python 2",
   "language": "python",
   "name": "python2"
  },
  "language_info": {
   "codemirror_mode": {
    "name": "ipython",
    "version": 2
   },
   "file_extension": ".py",
   "mimetype": "text/x-python",
   "name": "python",
   "nbconvert_exporter": "python",
   "pygments_lexer": "ipython2",
   "version": "2.7.13"
  }
 },
 "nbformat": 4,
 "nbformat_minor": 2
}
