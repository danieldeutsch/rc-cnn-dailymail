{
 "cells": [
  {
   "cell_type": "code",
   "execution_count": 1,
   "metadata": {
    "scrolled": true
   },
   "outputs": [
    {
     "name": "stdout",
     "output_type": "stream",
     "text": [
      "2\n"
     ]
    }
   ],
   "source": [
    "print 2"
   ]
  },
  {
   "cell_type": "code",
   "execution_count": 2,
   "metadata": {},
   "outputs": [
    {
     "name": "stderr",
     "output_type": "stream",
     "text": [
      "Using cuDNN version 5105 on context None\n",
      "Mapped name None to device cuda1: GeForce GTX 1080 (0000:03:00.0)\n"
     ]
    }
   ],
   "source": [
    "import qa_model"
   ]
  },
  {
   "cell_type": "markdown",
   "metadata": {},
   "source": [
    "/root/anaconda2/bin/python main.py --train_file /matan_files/datasets/cnn/cnn_qa/train.txt --dev_file /matan_files/datasets/cnn/cnn_qa/test.txt --embedding_file /matan_files/word-embeddings/glove.6B.100d.txt --test_only True --pre_trained /matan_files/rc-cnn-dailymail/code/model.pkl.gz --log_file log_test\n"
   ]
  },
  {
   "cell_type": "code",
   "execution_count": 3,
   "metadata": {},
   "outputs": [
    {
     "name": "stderr",
     "output_type": "stream",
     "text": [
      "11-22 15:59 /root/anaconda3/envs/python2/lib/python2.7/site-packages/ipykernel_launcher.py -f /root/.local/share/jupyter/runtime/kernel-e294b8d5-be16-4704-a21c-019850275086.json\n",
      "11-22 15:59 --------------------------------------------------\n",
      "11-22 15:59 Load data files..\n",
      "11-22 15:59 ********** Train\n",
      "11-22 16:01 #Examples: 380298\n",
      "11-22 16:01 ********** Dev\n",
      "11-22 16:01 #Examples: 3198\n",
      "11-22 16:01 --------------------------------------------------\n",
      "11-22 16:01 Build dictionary..\n",
      "11-22 16:03 #Words: 118440 -> 50000\n",
      "11-22 16:03 ('the', 15383021)\n",
      "11-22 16:03 (',', 13757778)\n",
      "11-22 16:03 ('.', 11782121)\n",
      "11-22 16:03 ('to', 7208903)\n",
      "11-22 16:03 ('\"', 6967510)\n",
      "11-22 16:03 ...\n",
      "11-22 16:03 ('gourd', 21)\n",
      "11-22 16:03 ('3,842', 21)\n",
      "11-22 16:03 ('subdomain', 21)\n",
      "11-22 16:03 ('2010s', 21)\n",
      "11-22 16:03 ('mopey', 21)\n",
      "11-22 16:03 Entity markers: 328\n",
      "11-22 16:03 --------------------------------------------------\n",
      "11-22 16:03 Embeddings: 50002 x 100\n",
      "11-22 16:03 Loading embedding file: /matan_files/word-embeddings/glove.6B.100d.txt\n",
      "11-22 16:03 Pre-trained: 48609 (97.21%)\n",
      "11-22 16:03 Compile functions..\n",
      "11-22 16:03 Loaded pre-trained model: /matan_files/rc-cnn-dailymail/code/model.pkl.gz\n",
      "11-22 16:03 ('epoch', 46)\n",
      "11-22 16:03 ('n_updates', 551600)\n",
      "11-22 16:03 #params: 5501776\n",
      "11-22 16:03 <lasagne.layers.input.InputLayer object at 0x7f6e96dbb090>\n",
      "11-22 16:03 <lasagne.layers.embedding.EmbeddingLayer object at 0x7f6e96dbbbd0>\n",
      "11-22 16:03 <lasagne.layers.noise.DropoutLayer object at 0x7f6ed86ced90>\n",
      "11-22 16:03 <lasagne.layers.input.InputLayer object at 0x7f6e96dbb950>\n",
      "11-22 16:03 <lasagne.layers.recurrent.GRULayer object at 0x7f6ed86cec90>\n",
      "11-22 16:03 <lasagne.layers.noise.DropoutLayer object at 0x7f6ed86486d0>\n",
      "11-22 16:03 <lasagne.layers.recurrent.GRULayer object at 0x7f6ed8621350>\n",
      "11-22 16:03 <lasagne.layers.merge.ConcatLayer object at 0x7f6ed86ced50>\n",
      "11-22 16:03 <lasagne.layers.input.InputLayer object at 0x7f6e160cf110>\n",
      "11-22 16:03 <lasagne.layers.embedding.EmbeddingLayer object at 0x7f6ed86ced10>\n",
      "11-22 16:03 <lasagne.layers.noise.DropoutLayer object at 0x7f6ed858b510>\n",
      "11-22 16:03 <lasagne.layers.input.InputLayer object at 0x7f6ed86cec50>\n",
      "11-22 16:03 <lasagne.layers.recurrent.GRULayer object at 0x7f6ed859d250>\n",
      "11-22 16:03 <lasagne.layers.noise.DropoutLayer object at 0x7f6ed85a1d10>\n",
      "11-22 16:03 <lasagne.layers.recurrent.GRULayer object at 0x7f6ed85a4290>\n",
      "11-22 16:03 <lasagne.layers.merge.ConcatLayer object at 0x7f6ed857b750>\n",
      "11-22 16:03 <nn_layers.BilinearAttentionLayer object at 0x7f6ed84b70d0>\n",
      "11-22 16:03 <lasagne.layers.dense.DenseLayer object at 0x7f6ed84d3450>\n",
      "11-22 16:04 Done.\n"
     ]
    }
   ],
   "source": [
    "args, word_dict, entity_dict, train_fn, test_fn, params = qa_model.qa_model(train_file='/matan_files/datasets/cnn/cnn_qa/train.txt', dev_file='/matan_files/datasets/cnn/cnn_qa/test.txt', embedding_file='/matan_files/word-embeddings/glove.6B.100d.txt', test_only=True, prepare_model=True, pre_trained='/matan_files/rc-cnn-dailymail/code/model.pkl.gz')\n",
    "# "
   ]
  },
  {
   "cell_type": "code",
   "execution_count": null,
   "metadata": {
    "collapsed": true
   },
   "outputs": [],
   "source": []
  },
  {
   "cell_type": "code",
   "execution_count": null,
   "metadata": {
    "collapsed": true
   },
   "outputs": [],
   "source": []
  },
  {
   "cell_type": "code",
   "execution_count": 30,
   "metadata": {
    "collapsed": true
   },
   "outputs": [],
   "source": [
    "query_file = '/matan_files/OpenNMT-py/queries.pkl'\n",
    "rewards_file = '/matan_files/OpenNMT-py/rewards.pkl'\n",
    "\n",
    "# def eval_acc(data):\n",
    "#     # For start - if doesn't answer on none, return -1, else 0.\n",
    "#     r = round(np.random.rand(), 1)\n",
    "#     if r == 0:\n",
    "#         r = -1\n",
    "#     return r\n",
    "\n",
    "import utils\n",
    "\n",
    "def eval_acc(data):\n",
    "    dev_x1, dev_x2, dev_l, dev_y = utils.vectorize(data, word_dict, entity_dict)\n",
    "    all_dev = qa_model.gen_examples(dev_x1, dev_x2, dev_l, dev_y, args.batch_size)\n",
    "    dev_acc = qa_model.eval_acc(test_fn, all_dev)\n",
    "    return dev_acc\n",
    "\n",
    "def read_pickle(file):\n",
    "    with open(file, 'rb') as f:\n",
    "        data = pickle.loads(f.read())\n",
    "    return data\n",
    "\n",
    "def write_pickle(file, data):\n",
    "    with open(file, 'wb') as f:\n",
    "        pickle.dump(data, f)\n"
   ]
  },
  {
   "cell_type": "code",
   "execution_count": 14,
   "metadata": {},
   "outputs": [],
   "source": [
    "import os\n",
    "import numpy as np\n",
    "import pickle\n",
    "from time import sleep"
   ]
  },
  {
   "cell_type": "code",
   "execution_count": 35,
   "metadata": {},
   "outputs": [
    {
     "name": "stdout",
     "output_type": "stream",
     "text": [
      "True\n",
      "> <ipython-input-35-f1078672d0c1>(6)<module>()\n",
      "-> data = read_pickle(query_file)\n",
      "(Pdb) n\n",
      "> <ipython-input-35-f1078672d0c1>(7)<module>()\n",
      "-> reward = eval_acc(data)\n",
      "(Pdb) s\n",
      "--Call--\n",
      "> <ipython-input-30-caa69db77c68>(13)eval_acc()\n",
      "-> def eval_acc(data):\n",
      "(Pdb) n\n",
      "> <ipython-input-30-caa69db77c68>(14)eval_acc()\n",
      "-> dev_x1, dev_x2, dev_l, dev_y = utils.vectorize(data, word_dict, entity_dict)\n",
      "(Pdb) s\n",
      "--Call--\n",
      "> /matan_files/rc-cnn-dailymail/code/utils.py(85)vectorize()\n",
      "-> def vectorize(examples, word_dict, entity_dict,\n",
      "(Pdb) n\n",
      "> /matan_files/rc-cnn-dailymail/code/utils.py(93)vectorize()\n",
      "-> in_x1 = []\n",
      "(Pdb) n\n",
      "> /matan_files/rc-cnn-dailymail/code/utils.py(94)vectorize()\n",
      "-> in_x2 = []\n",
      "(Pdb) n\n",
      "> /matan_files/rc-cnn-dailymail/code/utils.py(95)vectorize()\n",
      "-> in_l = np.zeros((len(examples[0]), len(entity_dict))).astype(config._floatX)\n",
      "(Pdb) len(examples[0]\n",
      "*** SyntaxError: unexpected EOF while parsing (<stdin>, line 1)\n",
      "(Pdb) len(examples[0])\n",
      "4\n",
      "(Pdb) examples\n",
      "[[u\"<s> @entity3 's has experiences a on a scenes . including @entity3 correspondents share with @entity3 correspondents york correspondents series a\", u\"<s> @entity3 's has experiences a on a scenes . including @entity3 correspondents share with @entity3 correspondents york correspondents series a\", u\"<s> @entity3 's has experiences a on a scenes . including @entity3 correspondents share with @entity3 correspondents york correspondents series a\", u\"<s> @entity3 's has experiences a on a scenes . including @entity3 correspondents share with @entity3 correspondents york correspondents series a\"], (u'mentally ill inmates in @placeholder are housed on the \" forgotten floor \"', u'judge @placeholder says most are there as a result of \" avoidable felonies \"', u'while @placeholder tours facility , patient shouts : \" i am the son of the president \"', u\"@placeholder says the system is unjust and he 's fighting for change\"), (u'@entity18', u'@entity30', u'@entity3', u'@entity30')]\n",
      "(Pdb) examples[0]\n",
      "[u\"<s> @entity3 's has experiences a on a scenes . including @entity3 correspondents share with @entity3 correspondents york correspondents series a\", u\"<s> @entity3 's has experiences a on a scenes . including @entity3 correspondents share with @entity3 correspondents york correspondents series a\", u\"<s> @entity3 's has experiences a on a scenes . including @entity3 correspondents share with @entity3 correspondents york correspondents series a\", u\"<s> @entity3 's has experiences a on a scenes . including @entity3 correspondents share with @entity3 correspondents york correspondents series a\"]\n",
      "(Pdb) examples[0][0]\n",
      "u\"<s> @entity3 's has experiences a on a scenes . including @entity3 correspondents share with @entity3 correspondents york correspondents series a\"\n",
      "(Pdb) examples[1]\n",
      "(u'mentally ill inmates in @placeholder are housed on the \" forgotten floor \"', u'judge @placeholder says most are there as a result of \" avoidable felonies \"', u'while @placeholder tours facility , patient shouts : \" i am the son of the president \"', u\"@placeholder says the system is unjust and he 's fighting for change\")\n",
      "(Pdb) examples[0][1]\n",
      "u\"<s> @entity3 's has experiences a on a scenes . including @entity3 correspondents share with @entity3 correspondents york correspondents series a\"\n",
      "(Pdb) examples[1][0]\n",
      "u'mentally ill inmates in @placeholder are housed on the \" forgotten floor \"'\n",
      "(Pdb) examples[1][0]\n",
      "u'mentally ill inmates in @placeholder are housed on the \" forgotten floor \"'\n",
      "(Pdb) examples[1][0]\n",
      "u'mentally ill inmates in @placeholder are housed on the \" forgotten floor \"'\n",
      "(Pdb) examples[1][1]\n",
      "u'judge @placeholder says most are there as a result of \" avoidable felonies \"'\n"
     ]
    },
    {
     "ename": "KeyboardInterrupt",
     "evalue": "",
     "output_type": "error",
     "traceback": [
      "\u001b[0;31m---------------------------------------------------------------------------\u001b[0m",
      "\u001b[0;31mKeyboardInterrupt\u001b[0m                         Traceback (most recent call last)",
      "\u001b[0;32m<ipython-input-35-f1078672d0c1>\u001b[0m in \u001b[0;36m<module>\u001b[0;34m()\u001b[0m\n\u001b[1;32m      5\u001b[0m     \u001b[0;32mimport\u001b[0m \u001b[0mpdb\u001b[0m\u001b[0;34m;\u001b[0m \u001b[0mpdb\u001b[0m\u001b[0;34m.\u001b[0m\u001b[0mset_trace\u001b[0m\u001b[0;34m(\u001b[0m\u001b[0;34m)\u001b[0m\u001b[0;34m\u001b[0m\u001b[0m\n\u001b[1;32m      6\u001b[0m     \u001b[0mdata\u001b[0m \u001b[0;34m=\u001b[0m \u001b[0mread_pickle\u001b[0m\u001b[0;34m(\u001b[0m\u001b[0mquery_file\u001b[0m\u001b[0;34m)\u001b[0m\u001b[0;34m\u001b[0m\u001b[0m\n\u001b[0;32m----> 7\u001b[0;31m     \u001b[0mreward\u001b[0m \u001b[0;34m=\u001b[0m \u001b[0meval_acc\u001b[0m\u001b[0;34m(\u001b[0m\u001b[0mdata\u001b[0m\u001b[0;34m)\u001b[0m\u001b[0;34m\u001b[0m\u001b[0m\n\u001b[0m\u001b[1;32m      8\u001b[0m     \u001b[0mos\u001b[0m\u001b[0;34m.\u001b[0m\u001b[0mremove\u001b[0m\u001b[0;34m(\u001b[0m\u001b[0mquery_file\u001b[0m\u001b[0;34m)\u001b[0m\u001b[0;34m\u001b[0m\u001b[0m\n\u001b[1;32m      9\u001b[0m     \u001b[0mwrite_pickle\u001b[0m\u001b[0;34m(\u001b[0m\u001b[0mrewards_file\u001b[0m\u001b[0;34m,\u001b[0m \u001b[0mreward\u001b[0m\u001b[0;34m)\u001b[0m\u001b[0;34m\u001b[0m\u001b[0m\n",
      "\u001b[0;32m<ipython-input-30-caa69db77c68>\u001b[0m in \u001b[0;36meval_acc\u001b[0;34m(data)\u001b[0m\n\u001b[1;32m     12\u001b[0m \u001b[0;34m\u001b[0m\u001b[0m\n\u001b[1;32m     13\u001b[0m \u001b[0;32mdef\u001b[0m \u001b[0meval_acc\u001b[0m\u001b[0;34m(\u001b[0m\u001b[0mdata\u001b[0m\u001b[0;34m)\u001b[0m\u001b[0;34m:\u001b[0m\u001b[0;34m\u001b[0m\u001b[0m\n\u001b[0;32m---> 14\u001b[0;31m     \u001b[0mdev_x1\u001b[0m\u001b[0;34m,\u001b[0m \u001b[0mdev_x2\u001b[0m\u001b[0;34m,\u001b[0m \u001b[0mdev_l\u001b[0m\u001b[0;34m,\u001b[0m \u001b[0mdev_y\u001b[0m \u001b[0;34m=\u001b[0m \u001b[0mutils\u001b[0m\u001b[0;34m.\u001b[0m\u001b[0mvectorize\u001b[0m\u001b[0;34m(\u001b[0m\u001b[0mdata\u001b[0m\u001b[0;34m,\u001b[0m \u001b[0mword_dict\u001b[0m\u001b[0;34m,\u001b[0m \u001b[0mentity_dict\u001b[0m\u001b[0;34m)\u001b[0m\u001b[0;34m\u001b[0m\u001b[0m\n\u001b[0m\u001b[1;32m     15\u001b[0m     \u001b[0mall_dev\u001b[0m \u001b[0;34m=\u001b[0m \u001b[0mqa_model\u001b[0m\u001b[0;34m.\u001b[0m\u001b[0mgen_examples\u001b[0m\u001b[0;34m(\u001b[0m\u001b[0mdev_x1\u001b[0m\u001b[0;34m,\u001b[0m \u001b[0mdev_x2\u001b[0m\u001b[0;34m,\u001b[0m \u001b[0mdev_l\u001b[0m\u001b[0;34m,\u001b[0m \u001b[0mdev_y\u001b[0m\u001b[0;34m,\u001b[0m \u001b[0margs\u001b[0m\u001b[0;34m.\u001b[0m\u001b[0mbatch_size\u001b[0m\u001b[0;34m)\u001b[0m\u001b[0;34m\u001b[0m\u001b[0m\n\u001b[1;32m     16\u001b[0m     \u001b[0mdev_acc\u001b[0m \u001b[0;34m=\u001b[0m \u001b[0mqa_model\u001b[0m\u001b[0;34m.\u001b[0m\u001b[0meval_acc\u001b[0m\u001b[0;34m(\u001b[0m\u001b[0mtest_fn\u001b[0m\u001b[0;34m,\u001b[0m \u001b[0mall_dev\u001b[0m\u001b[0;34m)\u001b[0m\u001b[0;34m\u001b[0m\u001b[0m\n",
      "\u001b[0;32m/matan_files/rc-cnn-dailymail/code/utils.py\u001b[0m in \u001b[0;36mvectorize\u001b[0;34m(examples, word_dict, entity_dict, sort_by_len, verbose)\u001b[0m\n\u001b[1;32m     93\u001b[0m     \u001b[0min_x1\u001b[0m \u001b[0;34m=\u001b[0m \u001b[0;34m[\u001b[0m\u001b[0;34m]\u001b[0m\u001b[0;34m\u001b[0m\u001b[0m\n\u001b[1;32m     94\u001b[0m     \u001b[0min_x2\u001b[0m \u001b[0;34m=\u001b[0m \u001b[0;34m[\u001b[0m\u001b[0;34m]\u001b[0m\u001b[0;34m\u001b[0m\u001b[0m\n\u001b[0;32m---> 95\u001b[0;31m     \u001b[0min_l\u001b[0m \u001b[0;34m=\u001b[0m \u001b[0mnp\u001b[0m\u001b[0;34m.\u001b[0m\u001b[0mzeros\u001b[0m\u001b[0;34m(\u001b[0m\u001b[0;34m(\u001b[0m\u001b[0mlen\u001b[0m\u001b[0;34m(\u001b[0m\u001b[0mexamples\u001b[0m\u001b[0;34m[\u001b[0m\u001b[0;36m0\u001b[0m\u001b[0;34m]\u001b[0m\u001b[0;34m)\u001b[0m\u001b[0;34m,\u001b[0m \u001b[0mlen\u001b[0m\u001b[0;34m(\u001b[0m\u001b[0mentity_dict\u001b[0m\u001b[0;34m)\u001b[0m\u001b[0;34m)\u001b[0m\u001b[0;34m)\u001b[0m\u001b[0;34m.\u001b[0m\u001b[0mastype\u001b[0m\u001b[0;34m(\u001b[0m\u001b[0mconfig\u001b[0m\u001b[0;34m.\u001b[0m\u001b[0m_floatX\u001b[0m\u001b[0;34m)\u001b[0m\u001b[0;34m\u001b[0m\u001b[0m\n\u001b[0m\u001b[1;32m     96\u001b[0m     \u001b[0min_y\u001b[0m \u001b[0;34m=\u001b[0m \u001b[0;34m[\u001b[0m\u001b[0;34m]\u001b[0m\u001b[0;34m\u001b[0m\u001b[0m\n\u001b[1;32m     97\u001b[0m     \u001b[0;32mfor\u001b[0m \u001b[0midx\u001b[0m\u001b[0;34m,\u001b[0m \u001b[0;34m(\u001b[0m\u001b[0md\u001b[0m\u001b[0;34m,\u001b[0m \u001b[0mq\u001b[0m\u001b[0;34m,\u001b[0m \u001b[0ma\u001b[0m\u001b[0;34m)\u001b[0m \u001b[0;32min\u001b[0m \u001b[0menumerate\u001b[0m\u001b[0;34m(\u001b[0m\u001b[0mzip\u001b[0m\u001b[0;34m(\u001b[0m\u001b[0mexamples\u001b[0m\u001b[0;34m[\u001b[0m\u001b[0;36m0\u001b[0m\u001b[0;34m]\u001b[0m\u001b[0;34m,\u001b[0m \u001b[0mexamples\u001b[0m\u001b[0;34m[\u001b[0m\u001b[0;36m1\u001b[0m\u001b[0;34m]\u001b[0m\u001b[0;34m,\u001b[0m \u001b[0mexamples\u001b[0m\u001b[0;34m[\u001b[0m\u001b[0;36m2\u001b[0m\u001b[0;34m]\u001b[0m\u001b[0;34m)\u001b[0m\u001b[0;34m)\u001b[0m\u001b[0;34m:\u001b[0m\u001b[0;34m\u001b[0m\u001b[0m\n",
      "\u001b[0;32m/matan_files/rc-cnn-dailymail/code/utils.py\u001b[0m in \u001b[0;36mvectorize\u001b[0;34m(examples, word_dict, entity_dict, sort_by_len, verbose)\u001b[0m\n\u001b[1;32m     93\u001b[0m     \u001b[0min_x1\u001b[0m \u001b[0;34m=\u001b[0m \u001b[0;34m[\u001b[0m\u001b[0;34m]\u001b[0m\u001b[0;34m\u001b[0m\u001b[0m\n\u001b[1;32m     94\u001b[0m     \u001b[0min_x2\u001b[0m \u001b[0;34m=\u001b[0m \u001b[0;34m[\u001b[0m\u001b[0;34m]\u001b[0m\u001b[0;34m\u001b[0m\u001b[0m\n\u001b[0;32m---> 95\u001b[0;31m     \u001b[0min_l\u001b[0m \u001b[0;34m=\u001b[0m \u001b[0mnp\u001b[0m\u001b[0;34m.\u001b[0m\u001b[0mzeros\u001b[0m\u001b[0;34m(\u001b[0m\u001b[0;34m(\u001b[0m\u001b[0mlen\u001b[0m\u001b[0;34m(\u001b[0m\u001b[0mexamples\u001b[0m\u001b[0;34m[\u001b[0m\u001b[0;36m0\u001b[0m\u001b[0;34m]\u001b[0m\u001b[0;34m)\u001b[0m\u001b[0;34m,\u001b[0m \u001b[0mlen\u001b[0m\u001b[0;34m(\u001b[0m\u001b[0mentity_dict\u001b[0m\u001b[0;34m)\u001b[0m\u001b[0;34m)\u001b[0m\u001b[0;34m)\u001b[0m\u001b[0;34m.\u001b[0m\u001b[0mastype\u001b[0m\u001b[0;34m(\u001b[0m\u001b[0mconfig\u001b[0m\u001b[0;34m.\u001b[0m\u001b[0m_floatX\u001b[0m\u001b[0;34m)\u001b[0m\u001b[0;34m\u001b[0m\u001b[0m\n\u001b[0m\u001b[1;32m     96\u001b[0m     \u001b[0min_y\u001b[0m \u001b[0;34m=\u001b[0m \u001b[0;34m[\u001b[0m\u001b[0;34m]\u001b[0m\u001b[0;34m\u001b[0m\u001b[0m\n\u001b[1;32m     97\u001b[0m     \u001b[0;32mfor\u001b[0m \u001b[0midx\u001b[0m\u001b[0;34m,\u001b[0m \u001b[0;34m(\u001b[0m\u001b[0md\u001b[0m\u001b[0;34m,\u001b[0m \u001b[0mq\u001b[0m\u001b[0;34m,\u001b[0m \u001b[0ma\u001b[0m\u001b[0;34m)\u001b[0m \u001b[0;32min\u001b[0m \u001b[0menumerate\u001b[0m\u001b[0;34m(\u001b[0m\u001b[0mzip\u001b[0m\u001b[0;34m(\u001b[0m\u001b[0mexamples\u001b[0m\u001b[0;34m[\u001b[0m\u001b[0;36m0\u001b[0m\u001b[0;34m]\u001b[0m\u001b[0;34m,\u001b[0m \u001b[0mexamples\u001b[0m\u001b[0;34m[\u001b[0m\u001b[0;36m1\u001b[0m\u001b[0;34m]\u001b[0m\u001b[0;34m,\u001b[0m \u001b[0mexamples\u001b[0m\u001b[0;34m[\u001b[0m\u001b[0;36m2\u001b[0m\u001b[0;34m]\u001b[0m\u001b[0;34m)\u001b[0m\u001b[0;34m)\u001b[0m\u001b[0;34m:\u001b[0m\u001b[0;34m\u001b[0m\u001b[0m\n",
      "\u001b[0;32m/root/anaconda3/envs/python2/lib/python2.7/bdb.pyc\u001b[0m in \u001b[0;36mtrace_dispatch\u001b[0;34m(self, frame, event, arg)\u001b[0m\n\u001b[1;32m     47\u001b[0m             \u001b[0;32mreturn\u001b[0m \u001b[0;31m# None\u001b[0m\u001b[0;34m\u001b[0m\u001b[0m\n\u001b[1;32m     48\u001b[0m         \u001b[0;32mif\u001b[0m \u001b[0mevent\u001b[0m \u001b[0;34m==\u001b[0m \u001b[0;34m'line'\u001b[0m\u001b[0;34m:\u001b[0m\u001b[0;34m\u001b[0m\u001b[0m\n\u001b[0;32m---> 49\u001b[0;31m             \u001b[0;32mreturn\u001b[0m \u001b[0mself\u001b[0m\u001b[0;34m.\u001b[0m\u001b[0mdispatch_line\u001b[0m\u001b[0;34m(\u001b[0m\u001b[0mframe\u001b[0m\u001b[0;34m)\u001b[0m\u001b[0;34m\u001b[0m\u001b[0m\n\u001b[0m\u001b[1;32m     50\u001b[0m         \u001b[0;32mif\u001b[0m \u001b[0mevent\u001b[0m \u001b[0;34m==\u001b[0m \u001b[0;34m'call'\u001b[0m\u001b[0;34m:\u001b[0m\u001b[0;34m\u001b[0m\u001b[0m\n\u001b[1;32m     51\u001b[0m             \u001b[0;32mreturn\u001b[0m \u001b[0mself\u001b[0m\u001b[0;34m.\u001b[0m\u001b[0mdispatch_call\u001b[0m\u001b[0;34m(\u001b[0m\u001b[0mframe\u001b[0m\u001b[0;34m,\u001b[0m \u001b[0marg\u001b[0m\u001b[0;34m)\u001b[0m\u001b[0;34m\u001b[0m\u001b[0m\n",
      "\u001b[0;32m/root/anaconda3/envs/python2/lib/python2.7/bdb.pyc\u001b[0m in \u001b[0;36mdispatch_line\u001b[0;34m(self, frame)\u001b[0m\n\u001b[1;32m     65\u001b[0m     \u001b[0;32mdef\u001b[0m \u001b[0mdispatch_line\u001b[0m\u001b[0;34m(\u001b[0m\u001b[0mself\u001b[0m\u001b[0;34m,\u001b[0m \u001b[0mframe\u001b[0m\u001b[0;34m)\u001b[0m\u001b[0;34m:\u001b[0m\u001b[0;34m\u001b[0m\u001b[0m\n\u001b[1;32m     66\u001b[0m         \u001b[0;32mif\u001b[0m \u001b[0mself\u001b[0m\u001b[0;34m.\u001b[0m\u001b[0mstop_here\u001b[0m\u001b[0;34m(\u001b[0m\u001b[0mframe\u001b[0m\u001b[0;34m)\u001b[0m \u001b[0;32mor\u001b[0m \u001b[0mself\u001b[0m\u001b[0;34m.\u001b[0m\u001b[0mbreak_here\u001b[0m\u001b[0;34m(\u001b[0m\u001b[0mframe\u001b[0m\u001b[0;34m)\u001b[0m\u001b[0;34m:\u001b[0m\u001b[0;34m\u001b[0m\u001b[0m\n\u001b[0;32m---> 67\u001b[0;31m             \u001b[0mself\u001b[0m\u001b[0;34m.\u001b[0m\u001b[0muser_line\u001b[0m\u001b[0;34m(\u001b[0m\u001b[0mframe\u001b[0m\u001b[0;34m)\u001b[0m\u001b[0;34m\u001b[0m\u001b[0m\n\u001b[0m\u001b[1;32m     68\u001b[0m             \u001b[0;32mif\u001b[0m \u001b[0mself\u001b[0m\u001b[0;34m.\u001b[0m\u001b[0mquitting\u001b[0m\u001b[0;34m:\u001b[0m \u001b[0;32mraise\u001b[0m \u001b[0mBdbQuit\u001b[0m\u001b[0;34m\u001b[0m\u001b[0m\n\u001b[1;32m     69\u001b[0m         \u001b[0;32mreturn\u001b[0m \u001b[0mself\u001b[0m\u001b[0;34m.\u001b[0m\u001b[0mtrace_dispatch\u001b[0m\u001b[0;34m\u001b[0m\u001b[0m\n",
      "\u001b[0;32m/root/anaconda3/envs/python2/lib/python2.7/pdb.pyc\u001b[0m in \u001b[0;36muser_line\u001b[0;34m(self, frame)\u001b[0m\n\u001b[1;32m    156\u001b[0m             \u001b[0mself\u001b[0m\u001b[0;34m.\u001b[0m\u001b[0m_wait_for_mainpyfile\u001b[0m \u001b[0;34m=\u001b[0m \u001b[0;36m0\u001b[0m\u001b[0;34m\u001b[0m\u001b[0m\n\u001b[1;32m    157\u001b[0m         \u001b[0;32mif\u001b[0m \u001b[0mself\u001b[0m\u001b[0;34m.\u001b[0m\u001b[0mbp_commands\u001b[0m\u001b[0;34m(\u001b[0m\u001b[0mframe\u001b[0m\u001b[0;34m)\u001b[0m\u001b[0;34m:\u001b[0m\u001b[0;34m\u001b[0m\u001b[0m\n\u001b[0;32m--> 158\u001b[0;31m             \u001b[0mself\u001b[0m\u001b[0;34m.\u001b[0m\u001b[0minteraction\u001b[0m\u001b[0;34m(\u001b[0m\u001b[0mframe\u001b[0m\u001b[0;34m,\u001b[0m \u001b[0mNone\u001b[0m\u001b[0;34m)\u001b[0m\u001b[0;34m\u001b[0m\u001b[0m\n\u001b[0m\u001b[1;32m    159\u001b[0m \u001b[0;34m\u001b[0m\u001b[0m\n\u001b[1;32m    160\u001b[0m     \u001b[0;32mdef\u001b[0m \u001b[0mbp_commands\u001b[0m\u001b[0;34m(\u001b[0m\u001b[0mself\u001b[0m\u001b[0;34m,\u001b[0m\u001b[0mframe\u001b[0m\u001b[0;34m)\u001b[0m\u001b[0;34m:\u001b[0m\u001b[0;34m\u001b[0m\u001b[0m\n",
      "\u001b[0;32m/root/anaconda3/envs/python2/lib/python2.7/pdb.pyc\u001b[0m in \u001b[0;36minteraction\u001b[0;34m(self, frame, traceback)\u001b[0m\n\u001b[1;32m    208\u001b[0m         \u001b[0mself\u001b[0m\u001b[0;34m.\u001b[0m\u001b[0msetup\u001b[0m\u001b[0;34m(\u001b[0m\u001b[0mframe\u001b[0m\u001b[0;34m,\u001b[0m \u001b[0mtraceback\u001b[0m\u001b[0;34m)\u001b[0m\u001b[0;34m\u001b[0m\u001b[0m\n\u001b[1;32m    209\u001b[0m         \u001b[0mself\u001b[0m\u001b[0;34m.\u001b[0m\u001b[0mprint_stack_entry\u001b[0m\u001b[0;34m(\u001b[0m\u001b[0mself\u001b[0m\u001b[0;34m.\u001b[0m\u001b[0mstack\u001b[0m\u001b[0;34m[\u001b[0m\u001b[0mself\u001b[0m\u001b[0;34m.\u001b[0m\u001b[0mcurindex\u001b[0m\u001b[0;34m]\u001b[0m\u001b[0;34m)\u001b[0m\u001b[0;34m\u001b[0m\u001b[0m\n\u001b[0;32m--> 210\u001b[0;31m         \u001b[0mself\u001b[0m\u001b[0;34m.\u001b[0m\u001b[0mcmdloop\u001b[0m\u001b[0;34m(\u001b[0m\u001b[0;34m)\u001b[0m\u001b[0;34m\u001b[0m\u001b[0m\n\u001b[0m\u001b[1;32m    211\u001b[0m         \u001b[0mself\u001b[0m\u001b[0;34m.\u001b[0m\u001b[0mforget\u001b[0m\u001b[0;34m(\u001b[0m\u001b[0;34m)\u001b[0m\u001b[0;34m\u001b[0m\u001b[0m\n\u001b[1;32m    212\u001b[0m \u001b[0;34m\u001b[0m\u001b[0m\n",
      "\u001b[0;32m/root/anaconda3/envs/python2/lib/python2.7/cmd.pyc\u001b[0m in \u001b[0;36mcmdloop\u001b[0;34m(self, intro)\u001b[0m\n\u001b[1;32m    128\u001b[0m                     \u001b[0;32mif\u001b[0m \u001b[0mself\u001b[0m\u001b[0;34m.\u001b[0m\u001b[0muse_rawinput\u001b[0m\u001b[0;34m:\u001b[0m\u001b[0;34m\u001b[0m\u001b[0m\n\u001b[1;32m    129\u001b[0m                         \u001b[0;32mtry\u001b[0m\u001b[0;34m:\u001b[0m\u001b[0;34m\u001b[0m\u001b[0m\n\u001b[0;32m--> 130\u001b[0;31m                             \u001b[0mline\u001b[0m \u001b[0;34m=\u001b[0m \u001b[0mraw_input\u001b[0m\u001b[0;34m(\u001b[0m\u001b[0mself\u001b[0m\u001b[0;34m.\u001b[0m\u001b[0mprompt\u001b[0m\u001b[0;34m)\u001b[0m\u001b[0;34m\u001b[0m\u001b[0m\n\u001b[0m\u001b[1;32m    131\u001b[0m                         \u001b[0;32mexcept\u001b[0m \u001b[0mEOFError\u001b[0m\u001b[0;34m:\u001b[0m\u001b[0;34m\u001b[0m\u001b[0m\n\u001b[1;32m    132\u001b[0m                             \u001b[0mline\u001b[0m \u001b[0;34m=\u001b[0m \u001b[0;34m'EOF'\u001b[0m\u001b[0;34m\u001b[0m\u001b[0m\n",
      "\u001b[0;32m/root/anaconda3/envs/python2/lib/python2.7/site-packages/ipykernel/kernelbase.pyc\u001b[0m in \u001b[0;36mraw_input\u001b[0;34m(self, prompt)\u001b[0m\n\u001b[1;32m    703\u001b[0m             \u001b[0mself\u001b[0m\u001b[0;34m.\u001b[0m\u001b[0m_parent_ident\u001b[0m\u001b[0;34m,\u001b[0m\u001b[0;34m\u001b[0m\u001b[0m\n\u001b[1;32m    704\u001b[0m             \u001b[0mself\u001b[0m\u001b[0;34m.\u001b[0m\u001b[0m_parent_header\u001b[0m\u001b[0;34m,\u001b[0m\u001b[0;34m\u001b[0m\u001b[0m\n\u001b[0;32m--> 705\u001b[0;31m             \u001b[0mpassword\u001b[0m\u001b[0;34m=\u001b[0m\u001b[0mFalse\u001b[0m\u001b[0;34m,\u001b[0m\u001b[0;34m\u001b[0m\u001b[0m\n\u001b[0m\u001b[1;32m    706\u001b[0m         )\n\u001b[1;32m    707\u001b[0m \u001b[0;34m\u001b[0m\u001b[0m\n",
      "\u001b[0;32m/root/anaconda3/envs/python2/lib/python2.7/site-packages/ipykernel/kernelbase.pyc\u001b[0m in \u001b[0;36m_input_request\u001b[0;34m(self, prompt, ident, parent, password)\u001b[0m\n\u001b[1;32m    733\u001b[0m             \u001b[0;32mexcept\u001b[0m \u001b[0mKeyboardInterrupt\u001b[0m\u001b[0;34m:\u001b[0m\u001b[0;34m\u001b[0m\u001b[0m\n\u001b[1;32m    734\u001b[0m                 \u001b[0;31m# re-raise KeyboardInterrupt, to truncate traceback\u001b[0m\u001b[0;34m\u001b[0m\u001b[0;34m\u001b[0m\u001b[0m\n\u001b[0;32m--> 735\u001b[0;31m                 \u001b[0;32mraise\u001b[0m \u001b[0mKeyboardInterrupt\u001b[0m\u001b[0;34m\u001b[0m\u001b[0m\n\u001b[0m\u001b[1;32m    736\u001b[0m             \u001b[0;32melse\u001b[0m\u001b[0;34m:\u001b[0m\u001b[0;34m\u001b[0m\u001b[0m\n\u001b[1;32m    737\u001b[0m                 \u001b[0;32mbreak\u001b[0m\u001b[0;34m\u001b[0m\u001b[0m\n",
      "\u001b[0;31mKeyboardInterrupt\u001b[0m: "
     ]
    }
   ],
   "source": [
    "while(True):\n",
    "    print(os.path.isfile(query_file))\n",
    "    while(not os.path.isfile(query_file)):\n",
    "        sleep(1)\n",
    "    data = read_pickle(query_file)\n",
    "    reward = eval_acc(data)\n",
    "    os.remove(query_file)\n",
    "    write_pickle(rewards_file, reward)\n"
   ]
  },
  {
   "cell_type": "code",
   "execution_count": 32,
   "metadata": {},
   "outputs": [
    {
     "data": {
      "text/plain": [
       "<module 'utils' from 'utils.py'>"
      ]
     },
     "execution_count": 32,
     "metadata": {},
     "output_type": "execute_result"
    }
   ],
   "source": [
    "reload(utils)"
   ]
  },
  {
   "cell_type": "code",
   "execution_count": null,
   "metadata": {
    "collapsed": true
   },
   "outputs": [],
   "source": []
  },
  {
   "cell_type": "code",
   "execution_count": null,
   "metadata": {
    "collapsed": true
   },
   "outputs": [],
   "source": []
  },
  {
   "cell_type": "code",
   "execution_count": null,
   "metadata": {
    "collapsed": true
   },
   "outputs": [],
   "source": []
  },
  {
   "cell_type": "code",
   "execution_count": null,
   "metadata": {
    "collapsed": true
   },
   "outputs": [],
   "source": []
  },
  {
   "cell_type": "code",
   "execution_count": null,
   "metadata": {
    "collapsed": true
   },
   "outputs": [],
   "source": []
  },
  {
   "cell_type": "code",
   "execution_count": null,
   "metadata": {
    "collapsed": true
   },
   "outputs": [],
   "source": []
  },
  {
   "cell_type": "code",
   "execution_count": null,
   "metadata": {
    "collapsed": true
   },
   "outputs": [],
   "source": []
  },
  {
   "cell_type": "code",
   "execution_count": 4,
   "metadata": {
    "scrolled": true
   },
   "outputs": [
    {
     "name": "stderr",
     "output_type": "stream",
     "text": [
      "11-20 16:03 #Examples: 3198\n",
      "11-20 16:03 Vectorization: processed 0 / 3198\n"
     ]
    },
    {
     "data": {
      "text/plain": [
       "74.452782989368359"
      ]
     },
     "execution_count": 4,
     "metadata": {},
     "output_type": "execute_result"
    }
   ],
   "source": [
    "qa_model.test(args, word_dict, entity_dict, train_fn, test_fn, params)"
   ]
  },
  {
   "cell_type": "code",
   "execution_count": 5,
   "metadata": {},
   "outputs": [
    {
     "data": {
      "text/plain": [
       "'/matan_files/datasets/cnn/cnn_qa/test.txt'"
      ]
     },
     "execution_count": 5,
     "metadata": {},
     "output_type": "execute_result"
    }
   ],
   "source": [
    "args.dev_file"
   ]
  },
  {
   "cell_type": "code",
   "execution_count": 6,
   "metadata": {
    "collapsed": true
   },
   "outputs": [],
   "source": [
    "args.max_dev"
   ]
  },
  {
   "cell_type": "code",
   "execution_count": 7,
   "metadata": {},
   "outputs": [
    {
     "data": {
      "text/plain": [
       "True"
      ]
     },
     "execution_count": 7,
     "metadata": {},
     "output_type": "execute_result"
    }
   ],
   "source": [
    "args.relabeling"
   ]
  },
  {
   "cell_type": "code",
   "execution_count": 8,
   "metadata": {},
   "outputs": [
    {
     "name": "stderr",
     "output_type": "stream",
     "text": [
      "11-20 16:04 #Examples: 3198\n"
     ]
    }
   ],
   "source": [
    "import utils\n",
    "dev_examples = utils.load_data(args.dev_file, args.max_dev, relabeling=args.relabeling)"
   ]
  },
  {
   "cell_type": "code",
   "execution_count": 12,
   "metadata": {},
   "outputs": [
    {
     "data": {
      "text/plain": [
       "3198"
      ]
     },
     "execution_count": 12,
     "metadata": {},
     "output_type": "execute_result"
    }
   ],
   "source": [
    "len(dev_examples[1])"
   ]
  },
  {
   "cell_type": "code",
   "execution_count": null,
   "metadata": {
    "collapsed": true
   },
   "outputs": [],
   "source": []
  },
  {
   "cell_type": "code",
   "execution_count": 71,
   "metadata": {
    "collapsed": true
   },
   "outputs": [],
   "source": [
    "question = 1\n",
    "fake_dev_examples = [[dev_examples[0][question]], [dev_examples[1][question]], [dev_examples[2][question]]]"
   ]
  },
  {
   "cell_type": "code",
   "execution_count": 72,
   "metadata": {},
   "outputs": [
    {
     "data": {
      "text/plain": [
       "[['( @entity0 ) a large storm system dubbed @entity1 is churning over the @entity2 , days away from a possible direct hit on the @entity3 . @entity1 is moving west - northwest after skirting the @entity4 , according to the @entity5 @entity6 . its eye is projected to make landfall in the central or northern part of the @entity3 island of @entity7 on sunday , though the country \\'s residents could start feeling its effects days before . that could interrupt the @entity8 celebration for many in the predominantly @entity9 nation , which may be socked by heavy rains and potent winds . the @entity10 noted that \" many people are expected to throng coastal areas at this time . \" images of the typhoon as seen from the @entity11 were posted to @entity12 , including a @entity13 video showing the swirling eye of the storm . the storm has weakened and is expected to lose more strength before it reaches the @entity3 . its maximum sustained winds on wednesday were 150 mph , making it a super typhoon in the @entity6 \\'s definition . but by thursday , the winds \\' strength had declined to around 132 mph -- no longer a super typhoon but still the equivalent of a category 4 hurricane . meteorologist @entity14 told @entity0 that @entity1 could weaken further to become a tropical storm by the time it reaches the @entity3 coast . \" this will not be a catastrophic storm , \" @entity14 said . that said , it could still cause flooding and bring strong winds , he cautioned . the @entity3 is frequently hit by typhoons . in december , for instance , @entity15 killed at least 18 people in the @entity16 nation and injured hundreds more . but that devastation paled in comparison to the havoc wrought by @entity17 in november 2013 , which killed more than 6,000 people and injured more than 27,000 others . that typhoon , considered to be among the strongest storms ever to make landfall , hit the eastern city of @entity18 especially hard . the irony of the upcoming storm is its timing : in april , just after the @entity3 @entity19 and @entity20 officially declared the onset of the nation \\'s dry , or summer , season . @entity21 meteorologist @entity22 predicts @entity1 -- which is called @entity23 in the @entity3 -- will bring heavy rains to @entity7 starting on friday , according to the state - run @entity24 . the country \\'s @entity25 went on red alert on wednesday because of the storm , the news agency reports . that alert means all relevant personnel are on standby and the public should be on guard for possible effects of the storm . @entity0 \\'s @entity26 contributed to this report .'],\n",
       " ['@placeholder has sustained winds of more than 130 mph but is expected to weaken'],\n",
       " ['@entity1']]"
      ]
     },
     "execution_count": 72,
     "metadata": {},
     "output_type": "execute_result"
    }
   ],
   "source": [
    "fake_dev_examples"
   ]
  },
  {
   "cell_type": "code",
   "execution_count": 73,
   "metadata": {
    "collapsed": true,
    "scrolled": true
   },
   "outputs": [],
   "source": [
    "# fake_dev_examples[0][0] = '@entity0 and @entity1'"
   ]
  },
  {
   "cell_type": "code",
   "execution_count": 74,
   "metadata": {},
   "outputs": [
    {
     "name": "stderr",
     "output_type": "stream",
     "text": [
      "11-16 18:19 Vectorization: processed 0 / 1\n"
     ]
    }
   ],
   "source": [
    "dev_x1, dev_x2, dev_l, dev_y = utils.vectorize(fake_dev_examples, word_dict, entity_dict)"
   ]
  },
  {
   "cell_type": "code",
   "execution_count": 76,
   "metadata": {
    "collapsed": true
   },
   "outputs": [],
   "source": [
    "all_dev = qa_model.gen_examples(dev_x1, dev_x2, dev_l, dev_y, args.batch_size)"
   ]
  },
  {
   "cell_type": "code",
   "execution_count": 77,
   "metadata": {},
   "outputs": [
    {
     "data": {
      "text/plain": [
       "32"
      ]
     },
     "execution_count": 77,
     "metadata": {},
     "output_type": "execute_result"
    }
   ],
   "source": [
    "args.batch_size"
   ]
  },
  {
   "cell_type": "code",
   "execution_count": 78,
   "metadata": {
    "collapsed": true
   },
   "outputs": [],
   "source": [
    "dev_acc = qa_model.eval_acc(test_fn, all_dev)"
   ]
  },
  {
   "cell_type": "code",
   "execution_count": 79,
   "metadata": {},
   "outputs": [
    {
     "data": {
      "text/plain": [
       "100.0"
      ]
     },
     "execution_count": 79,
     "metadata": {},
     "output_type": "execute_result"
    }
   ],
   "source": [
    "dev_acc"
   ]
  },
  {
   "cell_type": "code",
   "execution_count": 102,
   "metadata": {
    "collapsed": true
   },
   "outputs": [],
   "source": [
    "fake_dev_examples = [['@entity0 and @entity1'], ['@placeholder and @entity1'], ['@entity0']]"
   ]
  },
  {
   "cell_type": "code",
   "execution_count": 103,
   "metadata": {},
   "outputs": [
    {
     "name": "stderr",
     "output_type": "stream",
     "text": [
      "11-16 18:24 Vectorization: processed 0 / 1\n"
     ]
    }
   ],
   "source": [
    "dev_x1, dev_x2, dev_l, dev_y = utils.vectorize(fake_dev_examples, word_dict, entity_dict)"
   ]
  },
  {
   "cell_type": "code",
   "execution_count": 104,
   "metadata": {
    "collapsed": true
   },
   "outputs": [],
   "source": [
    "all_dev = qa_model.gen_examples(dev_x1, dev_x2, dev_l, dev_y, args.batch_size)"
   ]
  },
  {
   "cell_type": "code",
   "execution_count": 105,
   "metadata": {
    "collapsed": true
   },
   "outputs": [],
   "source": [
    "dev_acc = qa_model.eval_acc(test_fn, all_dev)"
   ]
  },
  {
   "cell_type": "code",
   "execution_count": 106,
   "metadata": {},
   "outputs": [
    {
     "data": {
      "text/plain": [
       "100.0"
      ]
     },
     "execution_count": 106,
     "metadata": {},
     "output_type": "execute_result"
    }
   ],
   "source": [
    "dev_acc"
   ]
  },
  {
   "cell_type": "code",
   "execution_count": null,
   "metadata": {
    "collapsed": true
   },
   "outputs": [],
   "source": []
  }
 ],
 "metadata": {
  "kernelspec": {
   "display_name": "Python 2",
   "language": "python",
   "name": "python2"
  },
  "language_info": {
   "codemirror_mode": {
    "name": "ipython",
    "version": 2
   },
   "file_extension": ".py",
   "mimetype": "text/x-python",
   "name": "python",
   "nbconvert_exporter": "python",
   "pygments_lexer": "ipython2",
   "version": "2.7.13"
  }
 },
 "nbformat": 4,
 "nbformat_minor": 2
}
